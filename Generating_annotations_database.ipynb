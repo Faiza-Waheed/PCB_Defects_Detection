{
 "cells": [
  {
   "cell_type": "markdown",
   "metadata": {},
   "source": [
    "Generating the Dataset csv file from XML data"
   ]
  },
  {
   "cell_type": "code",
   "execution_count": 2,
   "metadata": {},
   "outputs": [],
   "source": [
    "\n",
    "import numpy as np\n",
    "import pandas as pd\n",
    "import os\n",
    "import xml.etree.ElementTree as ET \n",
    "import warnings\n",
    "warnings.filterwarnings(\"ignore\")\n"
   ]
  },
  {
   "cell_type": "markdown",
   "metadata": {},
   "source": [
    "Path where the Annotations xml files are stored within the extracted dataset folder\n"
   ]
  },
  {
   "cell_type": "code",
   "execution_count": 3,
   "metadata": {},
   "outputs": [],
   "source": [
    "path_annotations = \"C:/Users/faiza/Downloads/VOC_PCB/VOC_PCB/Annotations/\"\n"
   ]
  },
  {
   "cell_type": "markdown",
   "metadata": {},
   "source": [
    "Identifying important properties/attributes of the document tree in the xml file\n",
    "Ignoring attributes such as 'source', 'owner', segmented', 'pose', 'truncated', etc."
   ]
  },
  {
   "cell_type": "code",
   "execution_count": 4,
   "metadata": {},
   "outputs": [],
   "source": [
    "\n",
    "dataset = {\n",
    "            \"file\":[],\n",
    "            \"width\":[],\n",
    "            \"height\":[],\n",
    "            \"depth\":[],\n",
    "            \"class\":[],\n",
    "            \"xmin\":[],\n",
    "            \"ymin\":[],   \n",
    "            \"xmax\":[],\n",
    "            \"ymax\":[],\n",
    "           }\n",
    "\n",
    "all_files = []\n",
    "\n",
    "for path, subdirs, files in os.walk(path_annotations):\n",
    "     for name in files:\n",
    "        all_files.append(os.path.join(path, name))"
   ]
  },
  {
   "cell_type": "code",
   "execution_count": null,
   "metadata": {},
   "outputs": [],
   "source": [
    "Augmenting the Dataset"
   ]
  },
  {
   "cell_type": "code",
   "execution_count": 5,
   "metadata": {},
   "outputs": [],
   "source": [
    "for annotations in all_files:\n",
    "    tree = ET.parse(annotations)\n",
    "    for element in tree.iter():\n",
    "        if 'size' in element.tag:\n",
    "            for attribute in list(element):\n",
    "                if 'width' in attribute.tag: \n",
    "                    width = int(round(float(attribute.text)))\n",
    "           \n",
    "                if 'height' in attribute.tag:\n",
    "                    height = int(round(float(attribute.text)))  \n",
    "                    \n",
    "                if 'depth' in attribute.tag:\n",
    "                    depth = int(round(float(attribute.text)))    \n",
    "\n",
    "        if 'object' in element.tag:\n",
    "            # print('[object] in element.tag ==> list(elem)\\n'), print(list(element))\n",
    "            for attribute in list(element):\n",
    "                \n",
    "                # print('attr = %s\\n' % attr)\n",
    "                if 'name' in attribute.tag:\n",
    "                    name = attribute.text                 \n",
    "                    dataset['class']+=[name]\n",
    "                    dataset['width']+=[width]\n",
    "                    dataset['height']+=[height] \n",
    "                    dataset['depth']+=[depth] \n",
    "                    dataset['file']+=[annotations.split('/')[-1][0:-4]] \n",
    "                            \n",
    "                if 'bndbox' in attribute.tag:\n",
    "                    for dimensions in list(attribute):\n",
    "                        if 'xmin' in dimensions.tag:\n",
    "                            xmin = int(round(float(dimensions.text)))\n",
    "                            dataset['xmin']+=[xmin]\n",
    "                        if 'ymin' in dimensions.tag:\n",
    "                            ymin = int(round(float(dimensions.text)))\n",
    "                            dataset['ymin']+=[ymin]                                \n",
    "                        if 'xmax' in dimensions.tag:\n",
    "                            xmax = int(round(float(dimensions.text)))\n",
    "                            dataset['xmax']+=[xmax]                                \n",
    "                        if 'ymax' in dimensions.tag:\n",
    "                            ymax = int(round(float(dimensions.text)))\n",
    "                            dataset['ymax']+=[ymax]     \n"
   ]
  },
  {
   "cell_type": "code",
   "execution_count": 6,
   "metadata": {},
   "outputs": [
    {
     "name": "stdout",
     "output_type": "stream",
     "text": [
      "                             file  width  height  depth         class  xmin  \\\n",
      "0  light_01_missing_hole_01_1_600    600     600      3  missing_hole   240   \n",
      "1  light_01_missing_hole_01_2_600    600     600      3  missing_hole   362   \n",
      "2  light_01_missing_hole_01_2_600    600     600      3  missing_hole   433   \n",
      "3  light_01_missing_hole_02_1_600    600     600      3  missing_hole   318   \n",
      "4  light_01_missing_hole_02_1_600    600     600      3  missing_hole   181   \n",
      "5  light_01_missing_hole_02_2_600    600     600      3  missing_hole   181   \n",
      "6  light_01_missing_hole_02_3_600    600     600      3  missing_hole   295   \n",
      "7  light_01_missing_hole_03_1_600    600     600      3  missing_hole   361   \n",
      "8  light_01_missing_hole_03_1_600    600     600      3  missing_hole     2   \n",
      "9  light_01_missing_hole_03_2_600    600     600      3  missing_hole   191   \n",
      "\n",
      "   ymin  xmax  ymax  \n",
      "0   404   282   437  \n",
      "1    12   402    49  \n",
      "2   302   476   338  \n",
      "3   147   358   187  \n",
      "4   507   204   541  \n",
      "5   107   204   141  \n",
      "6   307   326   339  \n",
      "7   308   390   334  \n",
      "8   368    33   390  \n",
      "9   273   221   301  \n"
     ]
    }
   ],
   "source": [
    "df=pd.DataFrame(dataset)\n",
    "print(df.head(10))"
   ]
  },
  {
   "cell_type": "code",
   "execution_count": 7,
   "metadata": {},
   "outputs": [
    {
     "data": {
      "text/html": [
       "<div>\n",
       "<style scoped>\n",
       "    .dataframe tbody tr th:only-of-type {\n",
       "        vertical-align: middle;\n",
       "    }\n",
       "\n",
       "    .dataframe tbody tr th {\n",
       "        vertical-align: top;\n",
       "    }\n",
       "\n",
       "    .dataframe thead th {\n",
       "        text-align: right;\n",
       "    }\n",
       "</style>\n",
       "<table border=\"1\" class=\"dataframe\">\n",
       "  <thead>\n",
       "    <tr style=\"text-align: right;\">\n",
       "      <th></th>\n",
       "      <th>file</th>\n",
       "      <th>width</th>\n",
       "      <th>height</th>\n",
       "      <th>depth</th>\n",
       "      <th>class</th>\n",
       "      <th>xmin</th>\n",
       "      <th>ymin</th>\n",
       "      <th>xmax</th>\n",
       "      <th>ymax</th>\n",
       "    </tr>\n",
       "    <tr>\n",
       "      <th>Index</th>\n",
       "      <th></th>\n",
       "      <th></th>\n",
       "      <th></th>\n",
       "      <th></th>\n",
       "      <th></th>\n",
       "      <th></th>\n",
       "      <th></th>\n",
       "      <th></th>\n",
       "      <th></th>\n",
       "    </tr>\n",
       "  </thead>\n",
       "  <tbody>\n",
       "    <tr>\n",
       "      <th>0</th>\n",
       "      <td>light_01_missing_hole_01_1_600</td>\n",
       "      <td>600</td>\n",
       "      <td>600</td>\n",
       "      <td>3</td>\n",
       "      <td>missing_hole</td>\n",
       "      <td>240</td>\n",
       "      <td>404</td>\n",
       "      <td>282</td>\n",
       "      <td>437</td>\n",
       "    </tr>\n",
       "    <tr>\n",
       "      <th>1</th>\n",
       "      <td>light_01_missing_hole_01_2_600</td>\n",
       "      <td>600</td>\n",
       "      <td>600</td>\n",
       "      <td>3</td>\n",
       "      <td>missing_hole</td>\n",
       "      <td>362</td>\n",
       "      <td>12</td>\n",
       "      <td>402</td>\n",
       "      <td>49</td>\n",
       "    </tr>\n",
       "    <tr>\n",
       "      <th>2</th>\n",
       "      <td>light_01_missing_hole_01_2_600</td>\n",
       "      <td>600</td>\n",
       "      <td>600</td>\n",
       "      <td>3</td>\n",
       "      <td>missing_hole</td>\n",
       "      <td>433</td>\n",
       "      <td>302</td>\n",
       "      <td>476</td>\n",
       "      <td>338</td>\n",
       "    </tr>\n",
       "    <tr>\n",
       "      <th>3</th>\n",
       "      <td>light_01_missing_hole_02_1_600</td>\n",
       "      <td>600</td>\n",
       "      <td>600</td>\n",
       "      <td>3</td>\n",
       "      <td>missing_hole</td>\n",
       "      <td>318</td>\n",
       "      <td>147</td>\n",
       "      <td>358</td>\n",
       "      <td>187</td>\n",
       "    </tr>\n",
       "    <tr>\n",
       "      <th>4</th>\n",
       "      <td>light_01_missing_hole_02_1_600</td>\n",
       "      <td>600</td>\n",
       "      <td>600</td>\n",
       "      <td>3</td>\n",
       "      <td>missing_hole</td>\n",
       "      <td>181</td>\n",
       "      <td>507</td>\n",
       "      <td>204</td>\n",
       "      <td>541</td>\n",
       "    </tr>\n",
       "  </tbody>\n",
       "</table>\n",
       "</div>"
      ],
      "text/plain": [
       "                                 file  width  height  depth         class  \\\n",
       "Index                                                                       \n",
       "0      light_01_missing_hole_01_1_600    600     600      3  missing_hole   \n",
       "1      light_01_missing_hole_01_2_600    600     600      3  missing_hole   \n",
       "2      light_01_missing_hole_01_2_600    600     600      3  missing_hole   \n",
       "3      light_01_missing_hole_02_1_600    600     600      3  missing_hole   \n",
       "4      light_01_missing_hole_02_1_600    600     600      3  missing_hole   \n",
       "\n",
       "       xmin  ymin  xmax  ymax  \n",
       "Index                          \n",
       "0       240   404   282   437  \n",
       "1       362    12   402    49  \n",
       "2       433   302   476   338  \n",
       "3       318   147   358   187  \n",
       "4       181   507   204   541  "
      ]
     },
     "execution_count": 7,
     "metadata": {},
     "output_type": "execute_result"
    }
   ],
   "source": [
    "df.index.name = 'Index'\n",
    "df.head()"
   ]
  },
  {
   "cell_type": "markdown",
   "metadata": {},
   "source": [
    "Saving database as csv Dataset"
   ]
  },
  {
   "cell_type": "code",
   "execution_count": 8,
   "metadata": {},
   "outputs": [],
   "source": [
    "\n",
    "df.to_csv(\"PCB_annotations_dataset.csv\", sep=';')"
   ]
  }
 ],
 "metadata": {
  "kernelspec": {
   "display_name": "Python 3",
   "language": "python",
   "name": "python3"
  },
  "language_info": {
   "codemirror_mode": {
    "name": "ipython",
    "version": 3
   },
   "file_extension": ".py",
   "mimetype": "text/x-python",
   "name": "python",
   "nbconvert_exporter": "python",
   "pygments_lexer": "ipython3",
   "version": "3.11.5"
  }
 },
 "nbformat": 4,
 "nbformat_minor": 2
}
