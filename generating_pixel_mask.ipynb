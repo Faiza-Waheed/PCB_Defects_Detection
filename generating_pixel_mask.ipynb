{
 "cells": [
  {
   "cell_type": "code",
   "execution_count": 59,
   "metadata": {},
   "outputs": [],
   "source": [
    "import numpy as np\n",
    "import pandas as pd\n",
    "import cv2"
   ]
  },
  {
   "cell_type": "code",
   "execution_count": 72,
   "metadata": {},
   "outputs": [],
   "source": [
    "df = pd.read_csv('PCB_annotations_dataset_alt.csv', sep=';')\n",
    "\n",
    "#display(df)\n"
   ]
  },
  {
   "cell_type": "code",
   "execution_count": 81,
   "metadata": {},
   "outputs": [],
   "source": [
    "def generate_pixel_matrix(df, filename):\n",
    "    \"\"\"\n",
    "    returns a numpy array with zeros and ones inside the bounding box of\n",
    "    each defect of the passed PCB \n",
    "\n",
    "    Args:\n",
    "        df (pandas.DataFrame): a PCB-annotation DataFrame \n",
    "        filename (string): the filename of the PCB image without file type ending\n",
    "    \"\"\"\n",
    "    df_grouped = df.groupby('filename')\n",
    "    pcb = df_grouped.get_group(filename)\n",
    "    #display(pcb)\n",
    "    # create a width x height marix of zeros\n",
    "    mask = np.zeros((pcb['width'].iloc[0], pcb['height'].iloc[0]))\n",
    "    for row in range(pcb.shape[0]):\n",
    "        for i in range(pcb.ymin.iloc[row], pcb.ymax.iloc[row]+1):\n",
    "            for j in range(pcb.xmin.iloc[row], pcb.xmax.iloc[row]+1):\n",
    "                mask[i][j] = 255\n",
    "    return(mask, filename)"
   ]
  },
  {
   "cell_type": "code",
   "execution_count": 82,
   "metadata": {},
   "outputs": [],
   "source": [
    "for filename in df.filename.unique():\n",
    "    mask, filename = generate_pixel_matrix(df, filename)\n",
    "    cv2.imwrite(f\"data/Pixel_masks/pm-{filename}.png\", mask)"
   ]
  }
 ],
 "metadata": {
  "kernelspec": {
   "display_name": "ds-pcb-project--b-1RuN8-py3.11",
   "language": "python",
   "name": "python3"
  },
  "language_info": {
   "codemirror_mode": {
    "name": "ipython",
    "version": 3
   },
   "file_extension": ".py",
   "mimetype": "text/x-python",
   "name": "python",
   "nbconvert_exporter": "python",
   "pygments_lexer": "ipython3",
   "version": "3.11.2"
  }
 },
 "nbformat": 4,
 "nbformat_minor": 2
}
