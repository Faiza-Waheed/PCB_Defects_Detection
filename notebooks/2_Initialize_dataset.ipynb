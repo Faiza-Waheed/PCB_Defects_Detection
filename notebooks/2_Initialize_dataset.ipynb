{
 "cells": [
  {
   "cell_type": "code",
   "execution_count": 41,
   "metadata": {},
   "outputs": [
    {
     "data": {
      "text/plain": [
       "'\\nThis script initializes a dataset according to the user inputs. The user can choose one or more of the defects \\nto be included in the dataset including the number of samples per defect. \\n\\nIn order for the script to work correctly, the folder containing this file should have the following subfolders:\\n\\ndata\\n|__Annotations\\n|__Images\\n|__Images_bb\\n|__Pixel_masks\\n\\nIn order to not push the \\'data\\' subfolder to the remote repo, \\nthe working directory should have the file \\'.gitignore\\' with the line \\'/data/\\'.\\n\\nFurthermore, the parent directory of the working directory should contain the folders where the complete Data is downloaded:\\n\\nextract_dir = os.path.expanduser(\"~/Data_science\")\\n\\nVOC_PCB\\n|__Annotations\\n|__JPEGImages\\n\\nSo the folder structure should look like this, where \\'PCB_DEFECTS_DETECTION/notebooks\\' is the folder containing this python file:\\n\\nPCB_DEFECTS_DETECTION\\n|__data\\n|  |__Annotations\\n|  |__Images\\n|  |__Images_bb\\n|  |__Pixel_masks\\n|\\n|__notebooks\\n|  |__Initialize_dataset.ipynb\\n\\n\\nThe script then does the following:\\n1) it deletes the contents of the subfolders \\'Annotations\\', \\'Images\\', \\'Images_bb\\' and \\'Pixel_masks\\'\\n2) it copies a random choice of samples of the chosen defect types and respective size into the folder \\'/data/Images/\\'\\n3) it copies the according annotation xml files into the folder \\'/data/Annotations/\\'\\n4) it generates a corresponding csv file \\'PCB_annotations_dataset.csv\\' in the working folder with one row for each defect instance, \\n   i.e. multiple rows per image\\n5) for each image in the dataset it generates an image with the drawn bounding boxes around the defects in the folder \\'/data/Images_bb/\\'\\n6) for each image in the dataset it generates an a pixel mask (the label) which is white on the defect locations and black otherwise \\n   in the folder \\'/data/Pixel_masks/\\'\\n'"
      ]
     },
     "execution_count": 41,
     "metadata": {},
     "output_type": "execute_result"
    }
   ],
   "source": [
    "\"\"\"\n",
    "This script initializes a dataset according to the user inputs. The user can choose one or more of the defects \n",
    "to be included in the dataset including the number of samples per defect. \n",
    "\n",
    "In order for the script to work correctly, the folder containing this file should have the following subfolders:\n",
    "\n",
    "data\n",
    "|__Annotations\n",
    "|__Images\n",
    "|__Images_bb\n",
    "|__Pixel_masks\n",
    "\n",
    "In order to not push the 'data' subfolder to the remote repo, \n",
    "the working directory should have the file '.gitignore' with the line '/data/'.\n",
    "\n",
    "Furthermore, the parent directory of the working directory should contain the folders where the complete Data is downloaded:\n",
    "\n",
    "extract_dir = os.path.expanduser(\"~/Data_science\")\n",
    "\n",
    "VOC_PCB\n",
    "|__Annotations\n",
    "|__JPEGImages\n",
    "\n",
    "So the folder structure should look like this, where 'PCB_DEFECTS_DETECTION/notebooks' is the folder containing this python file:\n",
    "\n",
    "PCB_DEFECTS_DETECTION\n",
    "|__data\n",
    "|  |__Annotations\n",
    "|  |__Images\n",
    "|  |__Images_bb\n",
    "|  |__Pixel_masks\n",
    "|\n",
    "|__notebooks\n",
    "|  |__Initialize_dataset.ipynb\n",
    "\n",
    "\n",
    "The script then does the following:\n",
    "1) it deletes the contents of the subfolders 'Annotations', 'Images', 'Images_bb' and 'Pixel_masks'\n",
    "2) it copies a random choice of samples of the chosen defect types and respective size into the folder '/data/Images/'\n",
    "3) it copies the according annotation xml files into the folder '/data/Annotations/'\n",
    "4) it generates a corresponding csv file 'PCB_annotations_dataset.csv' in the working folder with one row for each defect instance, \n",
    "   i.e. multiple rows per image\n",
    "5) for each image in the dataset it generates an image with the drawn bounding boxes around the defects in the folder '/data/Images_bb/'\n",
    "6) for each image in the dataset it generates an a pixel mask (the label) which is white on the defect locations and black otherwise \n",
    "   in the folder '/data/Pixel_masks/'\n",
    "\"\"\""
   ]
  },
  {
   "cell_type": "code",
   "execution_count": 42,
   "metadata": {},
   "outputs": [],
   "source": [
    "import pandas as pd\n",
    "import numpy as np\n",
    "import xml.etree.ElementTree as ET\n",
    "import cv2, os, re\n",
    "import shutil"
   ]
  },
  {
   "cell_type": "code",
   "execution_count": 43,
   "metadata": {},
   "outputs": [],
   "source": [
    "# function definitions\n",
    "def draw_bounding_boxes(df, filename, img_path):\n",
    "    \"\"\"\n",
    "    draws the bounding box into the PCB image and saves it in the folder 'data/Images_bb'.\n",
    "\n",
    "    returns: \n",
    "        the image with the bounding boxes (numpy.ndarray)\n",
    "        the image file name (string)\n",
    "\n",
    "    Args:\n",
    "        df (pandas.DataFrame): a PCB-annotation DataFrame \n",
    "        filename (string): the filename of the PCB image with file type ending\n",
    "        img_path (string): the relative path to the folder containing the image(s)\n",
    "    \"\"\"\n",
    "    if filename in os.listdir(img_path):\n",
    "        # Read one image according to the path and filename\n",
    "        img = cv2.imread(os.path.join(img_path, filename))\n",
    "        \n",
    "        # Filter DataFrame based on filename\n",
    "        file_name = os.path.splitext(filename)[0]\n",
    "        pcb = df[df['filename'].str.startswith(file_name)]\n",
    "        \n",
    "        # For each defect, draw a red frame along the border of the bounding box\n",
    "        for index, row in pcb.iterrows():\n",
    "            xmin = int(row['xmin'])\n",
    "            ymin = int(row['ymin'])\n",
    "            xmax = int(row['xmax'])\n",
    "            ymax = int(row['ymax'])\n",
    "            \n",
    "            # Draw bounding box\n",
    "            cv2.rectangle(img, (xmin, ymin), (xmax, ymax), (0, 0, 255), 2)\n",
    "        \n",
    "        return img, filename\n",
    "    else:\n",
    "        print(f\"Image {filename} not found in {img_path}\")"
   ]
  },
  {
   "cell_type": "code",
   "execution_count": 44,
   "metadata": {},
   "outputs": [],
   "source": [
    "def generate_pixel_matrix(df, filename):\n",
    "    \"\"\"\n",
    "    generates a black image of the same shape as the passed PCB image, with white white pixels \n",
    "    exactly inside the defect bounding box(es) of the passed PCB image \n",
    "    returns:\n",
    "        the pixel matrix (numpy.ndarray)\n",
    "        filename without ending (string)\n",
    "\n",
    "    Args:\n",
    "        df (pandas.DataFrame): a PCB-annotation DataFrame \n",
    "        filename (string): the filename of the PCB image without file type ending\n",
    "    \"\"\"\n",
    "    df_grouped = df.groupby('filename')\n",
    "    # create a dataframe for each annotation file with as many rows as there are defects\n",
    "    pcb = df_grouped.get_group(filename)\n",
    "    # create a width x height marix of zeros, i.e. black pixels\n",
    "    mask = np.zeros((pcb['width'].iloc[0], pcb['height'].iloc[0]))\n",
    "    # for each defect set the pixels inside the retrieved bounding box to white\n",
    "    for row in range(pcb.shape[0]):\n",
    "        for i in range(pcb.ymin.iloc[row], pcb.ymax.iloc[row]+1):\n",
    "            for j in range(pcb.xmin.iloc[row], pcb.xmax.iloc[row]+1):\n",
    "                mask[i][j] = 255\n",
    "    return(mask, filename)"
   ]
  },
  {
   "cell_type": "code",
   "execution_count": 45,
   "metadata": {},
   "outputs": [],
   "source": [
    "def get_user_choice():\n",
    "    defects = {1: 'missing_hole', 2: 'mouse_bite', 3: 'open_circuit', 4: 'short', 5: 'spur', 6: 'spurious_copper'}\n",
    "    user_input = ''\n",
    "    while not (re.compile(r\"^(?!.*(\\d).*\\1)[1-6](?: [1-6](?!.*\\1)){0,5}$\").match(str.strip(user_input))): \n",
    "        user_input = input(f'Please select one or more defect types from:\\n{defects}\\n(separated by blank spaces, no duplicates):')\n",
    "    chosen_defects = list(map(lambda x: defects[int(x)], str.split(str.strip(user_input), ' ')))\n",
    "    user_input = ''\n",
    "    while not (re.compile(r\"\\d{1,3}\").match(str.strip(user_input))):\n",
    "        user_input = input('How many images per defect (integer, max. 999)? ')\n",
    "    chosen_size = int(str.strip(user_input))\n",
    "    return(chosen_defects, chosen_size)\n"
   ]
  },
  {
   "cell_type": "code",
   "execution_count": 46,
   "metadata": {},
   "outputs": [],
   "source": [
    "def clear_subfolders(image_dest_path, annot_dest_path, bb_path, mask_path, csv):\n",
    "    # clearing subfolders 'Annotations', 'Images', 'Images_bb', 'Pixel_masks'\n",
    "    for filename in os.listdir(image_dest_path):\n",
    "        os.remove(os.path.join(image_dest_path,filename))\n",
    "    for filename in os.listdir(annot_dest_path):\n",
    "        os.remove(os.path.join(annot_dest_path,filename))\n",
    "    for filename in os.listdir(bb_path):\n",
    "        os.remove(os.path.join(bb_path, filename))\n",
    "    for filename in os.listdir(mask_path):\n",
    "        os.remove(os.path.join(mask_path, filename))\n",
    "    for filename in os.listdir(csv):\n",
    "        os.remove(os.path.join(csv, filename))\n"
   ]
  },
  {
   "cell_type": "code",
   "execution_count": 47,
   "metadata": {},
   "outputs": [],
   "source": [
    "def copy_samples(chosen_defects, chosen_size, image_pool_path, image_dest_path, annot_pool_path, annot_dest_path):\n",
    "    # selecting only the images with the chosen defects\n",
    "    pool = {}\n",
    "    print(f\"Picking from {chosen_defects}\")\n",
    "\n",
    "    for defect_name in chosen_defects:\n",
    "        pool[defect_name]=[]\n",
    "        for filename in os.listdir(image_pool_path):        \n",
    "            if defect_name in filename:\n",
    "                #print(defect_name , filename)\n",
    "                pool[defect_name].append(filename)\n",
    "    \n",
    "    for defect in pool.keys():\n",
    "        rnd_picks = np.random.choice(pool[defect], min(len(pool[defect]), chosen_size), replace=False)\n",
    "\n",
    "        for filename in rnd_picks:\n",
    "            #print(filename)\n",
    "            #os.system(f\"cp {image_pool_path}{filename} {image_dest_path}\")\n",
    "            image_source = os.path.join(image_pool_path, filename)\n",
    "            image_destination = os.path.join(image_dest_path, filename)\n",
    "            shutil.copy(image_source, image_destination)\n",
    "\n",
    "            #os.system(f\"cp {annot_pool_path}{filename[:-4]}.xml {annot_dest_path}\")\n",
    "            xml_filename = filename[:-4] + \".xml\"\n",
    "            xml_source = os.path.join(annot_pool_path, xml_filename)\n",
    "            xml_destination = os.path.join(annot_dest_path, xml_filename)\n",
    "            shutil.copy(xml_source, xml_destination)\n"
   ]
  },
  {
   "cell_type": "code",
   "execution_count": 48,
   "metadata": {},
   "outputs": [],
   "source": [
    "def generate_PCB_csv(annotation_path, csv_path):\n",
    "    dataset = {\n",
    "    'filename': [],\n",
    "    'width': [],\n",
    "    'height': [],\n",
    "    'depth': [],\n",
    "    'defect': [],\n",
    "    'xmin': [],\n",
    "    'xmax': [],\n",
    "    'ymin': [],\n",
    "    'ymax': []\n",
    "    }\n",
    "\n",
    "    # iterate over all files in folder\n",
    "    for filename in os.listdir(annotation_path):\n",
    "        \n",
    "        tree = ET.parse(os.path.join(annotation_path, filename))\n",
    "        # create a row for each 'object' Element, i.e. for each single defect\n",
    "        for obj in [node for node in list(tree.iter()) if node.tag == 'object']:\n",
    "            for node in obj:\n",
    "                if node.tag == 'name':\n",
    "                    dataset['defect'] += [node.text]\n",
    "                if node.tag == 'bndbox':\n",
    "                    for child in node:\n",
    "                        # use a regular expression to match all bounding element tags\n",
    "                        if re.compile(r'^(x|y)(min|max)').match(child.tag):\n",
    "                            dataset[child.tag] += [int(child.text)]    \n",
    "            # writing the data which is identical for each occurence of 'object' in one file\n",
    "            for node in tree.iter():\n",
    "                # each filename can appear more than once if the PCB has more than one defect\n",
    "                # so it is not viable as row ID\n",
    "                if node.tag == 'filename':\n",
    "                    dataset[node.tag] += [node.text]\n",
    "                if node.tag in ['width', 'height', 'depth']:\n",
    "                    dataset[node.tag] += [int(node.text)]\n",
    "                        \n",
    "    df = pd.DataFrame(dataset) \n",
    "\n",
    "    df.to_csv(f'{csv_path}\\\\PCB_annotations_dataset.csv', sep=';', index=False)\n",
    "    return(df)"
   ]
  },
  {
   "cell_type": "code",
   "execution_count": 49,
   "metadata": {},
   "outputs": [],
   "source": [
    "current_dir = os.getcwd()\n",
    "parent_dir = os.path.dirname(current_dir)\n",
    "working_path = os.path.join(parent_dir) #incase directory needs to be expanded\n",
    "downloads_path = os.path.expanduser(\"~\\\\Downloads\")\n",
    "extract_dir = os.path.expanduser(\"~\\\\Data_science\")"
   ]
  },
  {
   "cell_type": "code",
   "execution_count": 50,
   "metadata": {},
   "outputs": [],
   "source": [
    "# Set up folder paths\n",
    "# Define the source paths for images and annotations\n",
    "image_pool_path = os.path.join(extract_dir, 'VOC_PCB', 'JPEGImages')\n",
    "annot_pool_path = os.path.join(extract_dir, 'VOC_PCB', 'Annotations')\n",
    "\n",
    "# Define the destination path for images and annotations\n",
    "image_dest_path = os.path.join(working_path, 'data', 'Images')\n",
    "annot_dest_path = os.path.join(working_path, 'data', 'Annotations')\n",
    "\n",
    "# Define the destination path for bboxes and masks\n",
    "bb_path = os.path.join(working_path, 'data', 'Images_bb')\n",
    "mask_path = os.path.join(working_path, 'data', 'Pixel_masks')\n",
    "\n",
    "# Define the destination path for csv file\n",
    "csv_path = os.path.join(working_path, 'data', 'csv')\n",
    "    "
   ]
  },
  {
   "cell_type": "code",
   "execution_count": 51,
   "metadata": {},
   "outputs": [
    {
     "name": "stdout",
     "output_type": "stream",
     "text": [
      "Directory already exists:\n",
      "Directory already exists:\n",
      "Directory already exists:\n",
      "Directory already exists:\n",
      "Directory already exists:\n"
     ]
    }
   ],
   "source": [
    "if not os.path.exists(image_dest_path):\n",
    "    os.makedirs(image_dest_path)\n",
    "    print(\"Directory created successfully:\", image_dest_path)\n",
    "else:\n",
    "    print(\"Directory already exists:\")\n",
    "\n",
    "if not os.path.exists(annot_dest_path):\n",
    "    os.makedirs(annot_dest_path)\n",
    "    print(\"Directory created successfully:\", annot_dest_path)\n",
    "else:\n",
    "    print(\"Directory already exists:\")\n",
    "\n",
    "if not os.path.exists(bb_path):\n",
    "    os.makedirs(bb_path)\n",
    "    print(\"Directory created successfully:\", bb_path)\n",
    "else:\n",
    "    print(\"Directory already exists:\")\n",
    "\n",
    "if not os.path.exists(mask_path):\n",
    "    os.makedirs(mask_path)\n",
    "    print(\"Directory created successfully:\", mask_path)\n",
    "else:\n",
    "    print(\"Directory already exists:\")\n",
    "\n",
    "if not os.path.exists(csv_path):\n",
    "    os.makedirs(csv_path)\n",
    "    print(\"Directory created successfully:\", csv_path)\n",
    "else:\n",
    "    print(\"Directory already exists:\")"
   ]
  },
  {
   "cell_type": "code",
   "execution_count": 52,
   "metadata": {},
   "outputs": [],
   "source": [
    "img_path = image_dest_path # only for more intuitive variable names later on\n",
    "annotation_path = annot_dest_path # only for more intuitive variable names later on"
   ]
  },
  {
   "cell_type": "code",
   "execution_count": 53,
   "metadata": {},
   "outputs": [],
   "source": [
    "clear_subfolders(image_dest_path, annot_dest_path, bb_path, mask_path, csv_path)"
   ]
  },
  {
   "cell_type": "code",
   "execution_count": 54,
   "metadata": {},
   "outputs": [],
   "source": [
    "chosen_defects, chosen_size = get_user_choice()"
   ]
  },
  {
   "cell_type": "code",
   "execution_count": 55,
   "metadata": {},
   "outputs": [
    {
     "name": "stdout",
     "output_type": "stream",
     "text": [
      "['missing_hole', 'mouse_bite', 'open_circuit', 'short', 'spur', 'spurious_copper']\n"
     ]
    }
   ],
   "source": [
    "print(chosen_defects)"
   ]
  },
  {
   "cell_type": "code",
   "execution_count": 56,
   "metadata": {},
   "outputs": [
    {
     "name": "stdout",
     "output_type": "stream",
     "text": [
      "Picking from ['missing_hole', 'mouse_bite', 'open_circuit', 'short', 'spur', 'spurious_copper']\n"
     ]
    }
   ],
   "source": [
    "copy_samples(chosen_defects, chosen_size, image_pool_path, image_dest_path, annot_pool_path, annot_dest_path)"
   ]
  },
  {
   "cell_type": "code",
   "execution_count": 57,
   "metadata": {},
   "outputs": [],
   "source": [
    "df = generate_PCB_csv(annotation_path, csv_path)"
   ]
  },
  {
   "cell_type": "code",
   "execution_count": 58,
   "metadata": {},
   "outputs": [],
   "source": [
    "# call the function draw_bounding_boxes once for each image\n",
    "df = pd.read_csv(f'{csv_path}\\\\PCB_annotations_dataset.csv', sep=';')\n",
    "\n",
    "#print(df.head(10))\n",
    "for filename in os.listdir(img_path):\n",
    "    img, filename = draw_bounding_boxes(df, filename, img_path)\n",
    "    cv2.imwrite(f\"{bb_path}\\\\bb-{filename}\", img)\n",
    "\n",
    "# call the function generate_pixel_matrix once for each PCB in the annotation file\n",
    "for filename in df.filename.unique():\n",
    "    mask, filename = generate_pixel_matrix(df, filename)\n",
    "    cv2.imwrite(f\"{mask_path}\\\\pm-{filename}.png\", mask)"
   ]
  }
 ],
 "metadata": {
  "kernelspec": {
   "display_name": "pcb_proj",
   "language": "python",
   "name": "python3"
  },
  "language_info": {
   "codemirror_mode": {
    "name": "ipython",
    "version": 3
   },
   "file_extension": ".py",
   "mimetype": "text/x-python",
   "name": "python",
   "nbconvert_exporter": "python",
   "pygments_lexer": "ipython3",
   "version": "3.12.3"
  }
 },
 "nbformat": 4,
 "nbformat_minor": 2
}
