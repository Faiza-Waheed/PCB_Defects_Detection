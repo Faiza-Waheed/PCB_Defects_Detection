{
 "cells": [
  {
   "cell_type": "code",
   "execution_count": null,
   "metadata": {},
   "outputs": [],
   "source": [
    "import shap\n",
    "import numpy as np\n",
    "import matplotlib.pyplot as plt\n",
    "\n",
    "# Assuming 'model' is your trained Keras model\n",
    "input_shape = (100, 100, 1)  # Adjust if necessary\n",
    "\n",
    "# Create a SHAP explainer\n",
    "explainer = shap.GradientExplainer(model, np.zeros((1, *input_shape)))\n",
    "\n",
    "# Select an image for explanation (example)\n",
    "image = np.random.rand(1, 100, 100, 1)  # Replace with your actual image\n",
    "\n",
    "# Compute SHAP values\n",
    "shap_values = explainer.shap_values(image)\n",
    "\n",
    "# Plot SHAP values for the segmentation output (assuming single output channel)\n",
    "shap.image_plot(shap_values, -image)\n"
   ]
  },
  {
   "cell_type": "code",
   "execution_count": null,
   "metadata": {},
   "outputs": [],
   "source": [
    "import shap\n",
    "import numpy as np\n",
    "import matplotlib.pyplot as plt\n",
    "\n",
    "# Assuming 'model' is your trained Keras model\n",
    "input_shape = (100, 100, 1)  # Adjust if necessary\n",
    "\n",
    "# Create a SHAP explainer\n",
    "explainer = shap.GradientExplainer(model, np.zeros((1, *input_shape)))\n",
    "\n",
    "# Select an image for explanation (example)\n",
    "image = np.random.rand(1, 100, 100, 1)  # Replace with your actual image\n",
    "\n",
    "# Compute SHAP values for segmentation and classification outputs\n",
    "shap_values_segmentation, shap_values_classification = explainer.shap_values(image)\n",
    "\n",
    "# Plot SHAP values for the segmentation output\n",
    "shap.image_plot(shap_values_segmentation, -image)\n",
    "\n",
    "# Plot SHAP values for the classification output (assuming 6 classes)\n",
    "for class_index in range(num_classes):\n",
    "    shap.image_plot([shap_values_classification[class_index]], -image)\n"
   ]
  }
 ],
 "metadata": {
  "kernelspec": {
   "display_name": "pcb_proj",
   "language": "python",
   "name": "python3"
  },
  "language_info": {
   "name": "python",
   "version": "3.12.3"
  }
 },
 "nbformat": 4,
 "nbformat_minor": 2
}
