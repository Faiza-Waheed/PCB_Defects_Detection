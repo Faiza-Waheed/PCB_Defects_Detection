{
 "cells": [
  {
   "cell_type": "code",
   "execution_count": 2,
   "metadata": {},
   "outputs": [
    {
     "name": "stderr",
     "output_type": "stream",
     "text": [
      "c:\\Users\\wfaiz\\anaconda3\\envs\\pcb_proj\\Lib\\site-packages\\tqdm\\auto.py:21: TqdmWarning: IProgress not found. Please update jupyter and ipywidgets. See https://ipywidgets.readthedocs.io/en/stable/user_install.html\n",
      "  from .autonotebook import tqdm as notebook_tqdm\n"
     ]
    }
   ],
   "source": [
    "import os\n",
    "import sys\n",
    "import cv2\n",
    "import numpy as np\n",
    "import matplotlib.pyplot as plt\n",
    "from tensorflow.keras.models import Model\n",
    "import tensorflow as tf\n",
    "from lime import lime_image\n",
    "from skimage.segmentation import mark_boundaries\n",
    "import shap\n"
   ]
  },
  {
   "cell_type": "code",
   "execution_count": 3,
   "metadata": {},
   "outputs": [],
   "source": [
    "current_dir = os.getcwd()\n",
    "parent_dir = os.path.dirname(current_dir)\n",
    "model_path = os.path.join(parent_dir, 'models', \"model_enhanced_unet_100_2.keras\")"
   ]
  },
  {
   "cell_type": "code",
   "execution_count": 4,
   "metadata": {},
   "outputs": [],
   "source": [
    "# Load the model\n",
    "model = tf.keras.models.load_model(model_path)"
   ]
  },
  {
   "cell_type": "code",
   "execution_count": 5,
   "metadata": {},
   "outputs": [],
   "source": [
    "def crop_image_to_patches(image, crop_size):\n",
    "    patches = []\n",
    "    for i in range(0, image.shape[0], crop_size[0]):\n",
    "        for j in range(0, image.shape[1], crop_size[1]):\n",
    "            patch = image[i:i + crop_size[0], j:j + crop_size[1]]\n",
    "            patches.append(patch)\n",
    "    return patches\n",
    "\n",
    "image_path = 'C:/users/wfaiz/Data_Science/PCB_Defect/data_full/Images/l_light_01_missing_hole_17_3_600.jpg'\n",
    "image = cv2.imread(image_path, cv2.IMREAD_GRAYSCALE) \n",
    "image = cv2.resize(image, (600, 600))\n",
    "\n",
    "patches = crop_image_to_patches(image, (100, 100))"
   ]
  },
  {
   "cell_type": "code",
   "execution_count": 6,
   "metadata": {},
   "outputs": [],
   "source": [
    "patches_rgb = [np.stack((patch,)*3, axis=-1) / 255.0 for patch in patches] # stacking gryscale image *3 to make psuedo RGB image\n"
   ]
  },
  {
   "cell_type": "code",
   "execution_count": 7,
   "metadata": {},
   "outputs": [],
   "source": [
    "num_classes=7"
   ]
  },
  {
   "cell_type": "code",
   "execution_count": 8,
   "metadata": {},
   "outputs": [
    {
     "ename": "ValueError",
     "evalue": "could not broadcast input array from shape (100,100,3) into shape (100,3)",
     "output_type": "error",
     "traceback": [
      "\u001b[1;31m---------------------------------------------------------------------------\u001b[0m",
      "\u001b[1;31mValueError\u001b[0m                                Traceback (most recent call last)",
      "Cell \u001b[1;32mIn[8], line 15\u001b[0m\n\u001b[0;32m     12\u001b[0m shap_values_classification_array \u001b[38;5;241m=\u001b[39m []\n\u001b[0;32m     13\u001b[0m \u001b[38;5;28;01mfor\u001b[39;00m patch_rgb \u001b[38;5;129;01min\u001b[39;00m patches_rgb:\n\u001b[1;32m---> 15\u001b[0m     shap_values_segmentation, shap_values_classification \u001b[38;5;241m=\u001b[39m \u001b[43mexplainer\u001b[49m\u001b[38;5;241;43m.\u001b[39;49m\u001b[43mshap_values\u001b[49m\u001b[43m(\u001b[49m\u001b[43mpatch_rgb\u001b[49m\u001b[43m)\u001b[49m\n\u001b[0;32m     16\u001b[0m     shap_values_segmentation_array\u001b[38;5;241m.\u001b[39mappend(shap_values_segmentation)\n\u001b[0;32m     17\u001b[0m     shap_values_classification_array\u001b[38;5;241m.\u001b[39mappend(shap_values_classification)\n",
      "File \u001b[1;32mc:\\Users\\wfaiz\\anaconda3\\envs\\pcb_proj\\Lib\\site-packages\\shap\\explainers\\_gradient.py:158\u001b[0m, in \u001b[0;36mGradientExplainer.shap_values\u001b[1;34m(self, X, nsamples, ranked_outputs, output_rank_order, rseed, return_variances)\u001b[0m\n\u001b[0;32m    108\u001b[0m \u001b[38;5;28;01mdef\u001b[39;00m \u001b[38;5;21mshap_values\u001b[39m(\u001b[38;5;28mself\u001b[39m, X, nsamples\u001b[38;5;241m=\u001b[39m\u001b[38;5;241m200\u001b[39m, ranked_outputs\u001b[38;5;241m=\u001b[39m\u001b[38;5;28;01mNone\u001b[39;00m, output_rank_order\u001b[38;5;241m=\u001b[39m\u001b[38;5;124m\"\u001b[39m\u001b[38;5;124mmax\u001b[39m\u001b[38;5;124m\"\u001b[39m, rseed\u001b[38;5;241m=\u001b[39m\u001b[38;5;28;01mNone\u001b[39;00m, return_variances\u001b[38;5;241m=\u001b[39m\u001b[38;5;28;01mFalse\u001b[39;00m):\n\u001b[0;32m    109\u001b[0m \u001b[38;5;250m    \u001b[39m\u001b[38;5;124;03m\"\"\"Return the values for the model applied to X.\u001b[39;00m\n\u001b[0;32m    110\u001b[0m \n\u001b[0;32m    111\u001b[0m \u001b[38;5;124;03m    Parameters\u001b[39;00m\n\u001b[1;32m   (...)\u001b[0m\n\u001b[0;32m    156\u001b[0m \n\u001b[0;32m    157\u001b[0m \u001b[38;5;124;03m    \"\"\"\u001b[39;00m\n\u001b[1;32m--> 158\u001b[0m     \u001b[38;5;28;01mreturn\u001b[39;00m \u001b[38;5;28;43mself\u001b[39;49m\u001b[38;5;241;43m.\u001b[39;49m\u001b[43mexplainer\u001b[49m\u001b[38;5;241;43m.\u001b[39;49m\u001b[43mshap_values\u001b[49m\u001b[43m(\u001b[49m\u001b[43mX\u001b[49m\u001b[43m,\u001b[49m\u001b[43m \u001b[49m\u001b[43mnsamples\u001b[49m\u001b[43m,\u001b[49m\u001b[43m \u001b[49m\u001b[43mranked_outputs\u001b[49m\u001b[43m,\u001b[49m\u001b[43m \u001b[49m\u001b[43moutput_rank_order\u001b[49m\u001b[43m,\u001b[49m\u001b[43m \u001b[49m\u001b[43mrseed\u001b[49m\u001b[43m,\u001b[49m\u001b[43m \u001b[49m\u001b[43mreturn_variances\u001b[49m\u001b[43m)\u001b[49m\n",
      "File \u001b[1;32mc:\\Users\\wfaiz\\anaconda3\\envs\\pcb_proj\\Lib\\site-packages\\shap\\explainers\\_gradient.py:314\u001b[0m, in \u001b[0;36m_TFGradient.shap_values\u001b[1;34m(self, X, nsamples, ranked_outputs, output_rank_order, rseed, return_variances)\u001b[0m\n\u001b[0;32m    312\u001b[0m         \u001b[38;5;28;01melse\u001b[39;00m:\n\u001b[0;32m    313\u001b[0m             x \u001b[38;5;241m=\u001b[39m X[u][j]\n\u001b[1;32m--> 314\u001b[0m         \u001b[43msamples_input\u001b[49m\u001b[43m[\u001b[49m\u001b[43mu\u001b[49m\u001b[43m]\u001b[49m\u001b[43m[\u001b[49m\u001b[43mk\u001b[49m\u001b[43m]\u001b[49m \u001b[38;5;241m=\u001b[39m t \u001b[38;5;241m*\u001b[39m x \u001b[38;5;241m+\u001b[39m (\u001b[38;5;241m1\u001b[39m \u001b[38;5;241m-\u001b[39m t) \u001b[38;5;241m*\u001b[39m \u001b[38;5;28mself\u001b[39m\u001b[38;5;241m.\u001b[39mdata[u][rind]\n\u001b[0;32m    315\u001b[0m         samples_delta[u][k] \u001b[38;5;241m=\u001b[39m x \u001b[38;5;241m-\u001b[39m \u001b[38;5;28mself\u001b[39m\u001b[38;5;241m.\u001b[39mdata[u][rind]\n\u001b[0;32m    317\u001b[0m \u001b[38;5;66;03m# compute the gradients at all the sample points\u001b[39;00m\n",
      "\u001b[1;31mValueError\u001b[0m: could not broadcast input array from shape (100,100,3) into shape (100,3)"
     ]
    }
   ],
   "source": [
    "\n",
    "# Assuming 'model' is your trained Keras model\n",
    "input_shape = (100, 100, 1)  # Adjust if necessary\n",
    "\n",
    "# Create a SHAP explainer\n",
    "explainer = shap.GradientExplainer(model, np.zeros((1, *input_shape)))\n",
    "\n",
    "# Select an image for explanation (example)\n",
    "image = np.random.rand(1, 100, 100, 1)  # Replace with your actual image\n",
    "\n",
    "# Compute SHAP values for segmentation and classification outputs\n",
    "shap_values_segmentation_array = []\n",
    "shap_values_classification_array = []\n",
    "for patch_rgb in patches_rgb:\n",
    "  \n",
    "    shap_values_segmentation, shap_values_classification = explainer.shap_values(patch_rgb)\n",
    "    shap_values_segmentation_array.append(shap_values_segmentation)\n",
    "    shap_values_classification_array.append(shap_values_classification)\n",
    "\n"
   ]
  },
  {
   "cell_type": "code",
   "execution_count": null,
   "metadata": {},
   "outputs": [],
   "source": [
    "# Plot SHAP values for the segmentation output\n",
    "masks = []\n",
    "for shap_seg in shap_values_segmentation_array:\n",
    "    _, mask = explanation.get_image_and_mask(explanation.top_labels[0],\n",
    "                                             positive_only=True,\n",
    "                                             num_features=10,\n",
    "                                             hide_rest=True)\n",
    "    masks.append(mask)"
   ]
  },
  {
   "cell_type": "code",
   "execution_count": null,
   "metadata": {},
   "outputs": [],
   "source": [
    "\n",
    "shap.image_plot(shap_values_segmentation, -image)\n",
    "\n",
    "# Plot SHAP values for the classification output\n",
    "for class_index in range(num_classes):\n",
    "    shap.image_plot([shap_values_classification[class_index]], -image)\n"
   ]
  }
 ],
 "metadata": {
  "kernelspec": {
   "display_name": "pcb_proj",
   "language": "python",
   "name": "python3"
  },
  "language_info": {
   "codemirror_mode": {
    "name": "ipython",
    "version": 3
   },
   "file_extension": ".py",
   "mimetype": "text/x-python",
   "name": "python",
   "nbconvert_exporter": "python",
   "pygments_lexer": "ipython3",
   "version": "3.12.3"
  }
 },
 "nbformat": 4,
 "nbformat_minor": 2
}
