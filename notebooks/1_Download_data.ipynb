{
 "cells": [
  {
   "cell_type": "code",
   "execution_count": 27,
   "metadata": {},
   "outputs": [],
   "source": [
    "import os\n",
    "import requests\n",
    "import zipfile"
   ]
  },
  {
   "cell_type": "code",
   "execution_count": 28,
   "metadata": {},
   "outputs": [],
   "source": [
    "downloads_path = os.path.expanduser(\"~/Downloads\")\n",
    "extract_dir = os.path.expanduser(\"~/Data_science\")"
   ]
  },
  {
   "cell_type": "code",
   "execution_count": 29,
   "metadata": {},
   "outputs": [],
   "source": [
    "# Function to download the file from the given URL\n",
    "def download_file(url, save_path):\n",
    "    # Send a GET request to the URL\n",
    "    response = requests.get(url)\n",
    "\n",
    "    # Check if the request was successful (status code 200)\n",
    "    if response.status_code == 200:\n",
    "        # Open the file in binary write mode and write the contents of the response\n",
    "        with open(save_path, \"wb\") as file:\n",
    "            file.write(response.content)\n",
    "        print(\"File downloaded successfully.\")\n",
    "    else:\n",
    "        print(\"Failed to download the file.\")\n"
   ]
  },
  {
   "cell_type": "code",
   "execution_count": 30,
   "metadata": {},
   "outputs": [],
   "source": [
    "# Function to extract the downloaded zip file\n",
    "def extract_zip(zip_path, destination):\n",
    "    with zipfile.ZipFile(zip_path, \"r\") as zip_ref:\n",
    "        zip_ref.extractall(destination)\n",
    "    print(\"File unzipped successfully.\")"
   ]
  },
  {
   "cell_type": "code",
   "execution_count": 31,
   "metadata": {},
   "outputs": [
    {
     "name": "stdout",
     "output_type": "stream",
     "text": [
      "File unzipped successfully.\n"
     ]
    }
   ],
   "source": [
    "# URL of the file to download\n",
    "url = \"https://www.dropbox.com/s/h0f39nyotddibsb/VOC_PCB.zip?dl=1\"\n",
    "\n",
    "# Path where you want to save the downloaded file\n",
    "save_path = os.path.join(downloads_path, 'VOC_PCB.zip')\n",
    "\n",
    "# Ask the user if they want to download the file\n",
    "response = input(\"Are you sure you want to download? (y/n): \")\n",
    "\n",
    "if response.lower() == \"y\":\n",
    "    # Download the file\n",
    "    download_file(url, save_path)\n",
    "\n",
    "# Check if the file exists after downloading\n",
    "if os.path.exists(save_path):\n",
    "    # Extract the downloaded file if it exists\n",
    "    extract_zip(save_path, extract_dir)\n",
    "else:\n",
    "    print(\"Skipping extraction as file was not downloaded.\")"
   ]
  }
 ],
 "metadata": {
  "kernelspec": {
   "display_name": "pcb_proj",
   "language": "python",
   "name": "python3"
  },
  "language_info": {
   "codemirror_mode": {
    "name": "ipython",
    "version": 3
   },
   "file_extension": ".py",
   "mimetype": "text/x-python",
   "name": "python",
   "nbconvert_exporter": "python",
   "pygments_lexer": "ipython3",
   "version": "3.12.3"
  }
 },
 "nbformat": 4,
 "nbformat_minor": 2
}
